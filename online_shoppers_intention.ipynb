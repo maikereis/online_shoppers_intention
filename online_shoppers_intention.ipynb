{
 "cells": [
  {
   "cell_type": "markdown",
   "source": [
    "<h1> Online Shoppers Intention Dataset </h1>\r\n",
    "<img src=\"img/online_shoppers.jpg\" width=900 height=500 />\r\n"
   ],
   "metadata": {}
  },
  {
   "cell_type": "markdown",
   "source": [
    "# Summary\r\n",
    "---\r\n",
    " - [Import libs](#Libs)\r\n",
    " - [Functions](#Functions)\r\n",
    " - [The subject](#TheProblem)\r\n",
    " - [Read Data](#Import)\r\n",
    " - [Let's look at the Data!](#Explore)\r\n",
    " - [Transfrom Data](#Convert)\r\n",
    "    * [Test Dependency ](#Dependency)\r\n",
    "    * [Buiding New Features](#NewFeatures)\r\n",
    "    \r\n",
    "- [What variables are more important?](#ThielU)\r\n",
    "- [Prepare Data to ML](#ML)\r\n",
    "- [Modeling](#ML2)"
   ],
   "metadata": {}
  },
  {
   "cell_type": "markdown",
   "source": [
    "<a id='Libs' a/>\r\n",
    "<h1> Import Libs </h1>\r\n",
    "<hr></hr>"
   ],
   "metadata": {}
  },
  {
   "cell_type": "code",
   "execution_count": 341,
   "source": [
    "import numpy as np\r\n",
    "import pandas as pd\r\n",
    "import seaborn as sns\r\n",
    "import matplotlib.pyplot as plt\r\n",
    "\r\n",
    "##  Math & Statistics\r\n",
    "import math\r\n",
    "from collections import Counter\r\n",
    "import scipy.stats as ss\r\n",
    "from scipy.stats import chi2, \\\r\n",
    "                        chi2_contingency\r\n",
    "\r\n",
    "#Metrics\r\n",
    "from sklearn.metrics import accuracy_score, \\\r\n",
    "                            precision_score, \\\r\n",
    "                            recall_score, \\\r\n",
    "                            confusion_matrix\r\n",
    "\r\n",
    "import warnings\r\n",
    "warnings.filterwarnings(\"ignore\")"
   ],
   "outputs": [],
   "metadata": {
    "execution": {
     "iopub.execute_input": "2021-09-10T02:19:19.306025Z",
     "iopub.status.busy": "2021-09-10T02:19:19.305397Z",
     "iopub.status.idle": "2021-09-10T02:19:20.268097Z",
     "shell.execute_reply": "2021-09-10T02:19:20.268546Z",
     "shell.execute_reply.started": "2021-09-10T02:16:41.202960Z"
    },
    "papermill": {
     "duration": 0.992693,
     "end_time": "2021-09-10T02:19:20.268722",
     "exception": false,
     "start_time": "2021-09-10T02:19:19.276029",
     "status": "completed"
    },
    "tags": []
   }
  },
  {
   "cell_type": "markdown",
   "source": [
    "<a id='Functions' a/>\r\n",
    "<h1> Functions </h1>\r\n",
    "<hr></hr>"
   ],
   "metadata": {}
  },
  {
   "cell_type": "code",
   "execution_count": 342,
   "source": [
    "# Function that execute the qui-square test\r\n",
    "def test_dependency(alpha, cont):\r\n",
    "    conf = 1-alpha\r\n",
    "    X2, p, dof, expected = chi2_contingency(cont)\r\n",
    "    critical = chi2.ppf(conf, dof)\r\n",
    "    if abs(X2) >= critical:\r\n",
    "        print('dependent (reject H0)')\r\n",
    "    else:\r\n",
    "        print('independent (fail to reject H0)')\r\n",
    "\r\n",
    "\r\n",
    "def conditional_entropy(x,y):\r\n",
    "    # entropy of x given y\r\n",
    "    y_counter = Counter(y)\r\n",
    "    xy_counter = Counter(list(zip(x,y)))\r\n",
    "    total_occurrences = sum(y_counter.values())\r\n",
    "    entropy = 0\r\n",
    "    for xy in xy_counter.keys():\r\n",
    "        p_xy = xy_counter[xy] / total_occurrences\r\n",
    "        p_y = y_counter[xy[1]] / total_occurrences\r\n",
    "        entropy += p_xy * math.log(p_y/p_xy)\r\n",
    "    return entropy\r\n",
    "\r\n",
    "# Uncertainty coefficient or Thiel's U\r\n",
    "def theil_u(x,y):\r\n",
    "    s_xy = conditional_entropy(x,y)\r\n",
    "    x_counter = Counter(x)\r\n",
    "    total_occurrences = sum(x_counter.values())\r\n",
    "    p_x = list(map(lambda n: n/total_occurrences, x_counter.values()))\r\n",
    "    s_x = ss.entropy(p_x)\r\n",
    "    if s_x == 0:\r\n",
    "        return 1\r\n",
    "    else:\r\n",
    "        return (s_x - s_xy) / s_x"
   ],
   "outputs": [],
   "metadata": {}
  },
  {
   "cell_type": "markdown",
   "source": [
    "<a id='TheProblem' a/>\r\n",
    "\r\n",
    "## **About Data**\r\n",
    "\r\n",
    "Each data entry (row) is refer to one online session, that can be from the same user or not within a period of 1-year. Totalizing 12,330 sessions. \r\n",
    "\r\n",
    "The data has a set of variables like the type of page visited, amount of time spent, proximity to special dates, Browser used, and also Google Analytics Metrics like \"Bounce Rate\", \"Exit Rate\", and \"Page Value\". \r\n",
    "\r\n",
    "For each entry, the column \"Revenue\" is marked as 1 if that session generated revenue.  \r\n",
    "\r\n",
    "## **Some questions our stakeholders may ask, in order to predict when a visitor is susceptible to buy, or what strategies they may use to improve the chance of sessions generate revenues**\r\n",
    "What was the behavior of sessions resulting in purchases, and non-purchases?\r\n",
    "\r\n",
    "How much time visitors spent at our sites in revenued sessions?\r\n",
    "\r\n",
    "What kind of pages they access?\r\n",
    "\r\n",
    "Are the weekends or special day's proximity relevant to they decision?\r\n",
    "\r\n"
   ],
   "metadata": {
    "papermill": {
     "duration": 0.025372,
     "end_time": "2021-09-10T02:19:20.371924",
     "exception": false,
     "start_time": "2021-09-10T02:19:20.346552",
     "status": "completed"
    },
    "tags": []
   }
  },
  {
   "cell_type": "markdown",
   "source": [
    "<a id='Import' a/>\r\n",
    "<h1> Read data </h1>\r\n",
    "<hr></hr>"
   ],
   "metadata": {
    "papermill": {
     "duration": 0.025514,
     "end_time": "2021-09-10T02:19:20.424531",
     "exception": false,
     "start_time": "2021-09-10T02:19:20.399017",
     "status": "completed"
    },
    "tags": []
   }
  },
  {
   "cell_type": "code",
   "execution_count": 343,
   "source": [
    "df = pd.read_csv(\"data/online_shoppers_intention.csv\")"
   ],
   "outputs": [],
   "metadata": {
    "execution": {
     "iopub.execute_input": "2021-09-10T02:19:20.481420Z",
     "iopub.status.busy": "2021-09-10T02:19:20.480811Z",
     "iopub.status.idle": "2021-09-10T02:19:20.533922Z",
     "shell.execute_reply": "2021-09-10T02:19:20.533418Z",
     "shell.execute_reply.started": "2021-09-10T02:16:41.241175Z"
    },
    "papermill": {
     "duration": 0.083471,
     "end_time": "2021-09-10T02:19:20.534064",
     "exception": false,
     "start_time": "2021-09-10T02:19:20.450593",
     "status": "completed"
    },
    "tags": []
   }
  },
  {
   "cell_type": "markdown",
   "source": [
    "<a id='Explore' a/>\r\n",
    "<h1> Let's look at the Data! </h1>\r\n",
    "<hr></hr>"
   ],
   "metadata": {
    "papermill": {
     "duration": 0.025162,
     "end_time": "2021-09-10T02:19:20.584755",
     "exception": false,
     "start_time": "2021-09-10T02:19:20.559593",
     "status": "completed"
    },
    "tags": []
   }
  },
  {
   "cell_type": "code",
   "execution_count": 344,
   "source": [
    "df.isnull().sum()"
   ],
   "outputs": [
    {
     "output_type": "execute_result",
     "data": {
      "text/plain": [
       "Administrative             0\n",
       "Administrative_Duration    0\n",
       "Informational              0\n",
       "Informational_Duration     0\n",
       "ProductRelated             0\n",
       "ProductRelated_Duration    0\n",
       "BounceRates                0\n",
       "ExitRates                  0\n",
       "PageValues                 0\n",
       "SpecialDay                 0\n",
       "Month                      0\n",
       "OperatingSystems           0\n",
       "Browser                    0\n",
       "Region                     0\n",
       "TrafficType                0\n",
       "VisitorType                0\n",
       "Weekend                    0\n",
       "Revenue                    0\n",
       "dtype: int64"
      ]
     },
     "metadata": {},
     "execution_count": 344
    }
   ],
   "metadata": {
    "execution": {
     "iopub.execute_input": "2021-09-10T02:19:20.691070Z",
     "iopub.status.busy": "2021-09-10T02:19:20.690520Z",
     "iopub.status.idle": "2021-09-10T02:19:20.708085Z",
     "shell.execute_reply": "2021-09-10T02:19:20.707564Z",
     "shell.execute_reply.started": "2021-09-10T02:16:41.275183Z"
    },
    "papermill": {
     "duration": 0.046976,
     "end_time": "2021-09-10T02:19:20.708209",
     "exception": false,
     "start_time": "2021-09-10T02:19:20.661233",
     "status": "completed"
    },
    "tags": []
   }
  },
  {
   "cell_type": "markdown",
   "source": [
    "### Dataset has no null values"
   ],
   "metadata": {}
  },
  {
   "cell_type": "code",
   "execution_count": 345,
   "source": [
    "df.info()"
   ],
   "outputs": [
    {
     "output_type": "stream",
     "name": "stdout",
     "text": [
      "<class 'pandas.core.frame.DataFrame'>\n",
      "RangeIndex: 12330 entries, 0 to 12329\n",
      "Data columns (total 18 columns):\n",
      " #   Column                   Non-Null Count  Dtype  \n",
      "---  ------                   --------------  -----  \n",
      " 0   Administrative           12330 non-null  int64  \n",
      " 1   Administrative_Duration  12330 non-null  float64\n",
      " 2   Informational            12330 non-null  int64  \n",
      " 3   Informational_Duration   12330 non-null  float64\n",
      " 4   ProductRelated           12330 non-null  int64  \n",
      " 5   ProductRelated_Duration  12330 non-null  float64\n",
      " 6   BounceRates              12330 non-null  float64\n",
      " 7   ExitRates                12330 non-null  float64\n",
      " 8   PageValues               12330 non-null  float64\n",
      " 9   SpecialDay               12330 non-null  float64\n",
      " 10  Month                    12330 non-null  object \n",
      " 11  OperatingSystems         12330 non-null  int64  \n",
      " 12  Browser                  12330 non-null  int64  \n",
      " 13  Region                   12330 non-null  int64  \n",
      " 14  TrafficType              12330 non-null  int64  \n",
      " 15  VisitorType              12330 non-null  object \n",
      " 16  Weekend                  12330 non-null  bool   \n",
      " 17  Revenue                  12330 non-null  bool   \n",
      "dtypes: bool(2), float64(7), int64(7), object(2)\n",
      "memory usage: 1.5+ MB\n"
     ]
    }
   ],
   "metadata": {
    "execution": {
     "iopub.execute_input": "2021-09-10T02:19:20.762569Z",
     "iopub.status.busy": "2021-09-10T02:19:20.762013Z",
     "iopub.status.idle": "2021-09-10T02:19:20.784843Z",
     "shell.execute_reply": "2021-09-10T02:19:20.784349Z",
     "shell.execute_reply.started": "2021-09-10T02:16:41.287509Z"
    },
    "papermill": {
     "duration": 0.050841,
     "end_time": "2021-09-10T02:19:20.784972",
     "exception": false,
     "start_time": "2021-09-10T02:19:20.734131",
     "status": "completed"
    },
    "tags": []
   }
  },
  {
   "cell_type": "code",
   "execution_count": 346,
   "source": [
    "df.describe()"
   ],
   "outputs": [
    {
     "output_type": "execute_result",
     "data": {
      "text/html": [
       "<div>\n",
       "<style scoped>\n",
       "    .dataframe tbody tr th:only-of-type {\n",
       "        vertical-align: middle;\n",
       "    }\n",
       "\n",
       "    .dataframe tbody tr th {\n",
       "        vertical-align: top;\n",
       "    }\n",
       "\n",
       "    .dataframe thead th {\n",
       "        text-align: right;\n",
       "    }\n",
       "</style>\n",
       "<table border=\"1\" class=\"dataframe\">\n",
       "  <thead>\n",
       "    <tr style=\"text-align: right;\">\n",
       "      <th></th>\n",
       "      <th>Administrative</th>\n",
       "      <th>Administrative_Duration</th>\n",
       "      <th>Informational</th>\n",
       "      <th>Informational_Duration</th>\n",
       "      <th>ProductRelated</th>\n",
       "      <th>ProductRelated_Duration</th>\n",
       "      <th>BounceRates</th>\n",
       "      <th>ExitRates</th>\n",
       "      <th>PageValues</th>\n",
       "      <th>SpecialDay</th>\n",
       "      <th>OperatingSystems</th>\n",
       "      <th>Browser</th>\n",
       "      <th>Region</th>\n",
       "      <th>TrafficType</th>\n",
       "    </tr>\n",
       "  </thead>\n",
       "  <tbody>\n",
       "    <tr>\n",
       "      <th>count</th>\n",
       "      <td>12330.000000</td>\n",
       "      <td>12330.000000</td>\n",
       "      <td>12330.000000</td>\n",
       "      <td>12330.000000</td>\n",
       "      <td>12330.000000</td>\n",
       "      <td>12330.000000</td>\n",
       "      <td>12330.000000</td>\n",
       "      <td>12330.000000</td>\n",
       "      <td>12330.000000</td>\n",
       "      <td>12330.000000</td>\n",
       "      <td>12330.000000</td>\n",
       "      <td>12330.000000</td>\n",
       "      <td>12330.000000</td>\n",
       "      <td>12330.000000</td>\n",
       "    </tr>\n",
       "    <tr>\n",
       "      <th>mean</th>\n",
       "      <td>2.315166</td>\n",
       "      <td>80.818611</td>\n",
       "      <td>0.503569</td>\n",
       "      <td>34.472398</td>\n",
       "      <td>31.731468</td>\n",
       "      <td>1194.746220</td>\n",
       "      <td>0.022191</td>\n",
       "      <td>0.043073</td>\n",
       "      <td>5.889258</td>\n",
       "      <td>0.061427</td>\n",
       "      <td>2.124006</td>\n",
       "      <td>2.357097</td>\n",
       "      <td>3.147364</td>\n",
       "      <td>4.069586</td>\n",
       "    </tr>\n",
       "    <tr>\n",
       "      <th>std</th>\n",
       "      <td>3.321784</td>\n",
       "      <td>176.779107</td>\n",
       "      <td>1.270156</td>\n",
       "      <td>140.749294</td>\n",
       "      <td>44.475503</td>\n",
       "      <td>1913.669288</td>\n",
       "      <td>0.048488</td>\n",
       "      <td>0.048597</td>\n",
       "      <td>18.568437</td>\n",
       "      <td>0.198917</td>\n",
       "      <td>0.911325</td>\n",
       "      <td>1.717277</td>\n",
       "      <td>2.401591</td>\n",
       "      <td>4.025169</td>\n",
       "    </tr>\n",
       "    <tr>\n",
       "      <th>min</th>\n",
       "      <td>0.000000</td>\n",
       "      <td>0.000000</td>\n",
       "      <td>0.000000</td>\n",
       "      <td>0.000000</td>\n",
       "      <td>0.000000</td>\n",
       "      <td>0.000000</td>\n",
       "      <td>0.000000</td>\n",
       "      <td>0.000000</td>\n",
       "      <td>0.000000</td>\n",
       "      <td>0.000000</td>\n",
       "      <td>1.000000</td>\n",
       "      <td>1.000000</td>\n",
       "      <td>1.000000</td>\n",
       "      <td>1.000000</td>\n",
       "    </tr>\n",
       "    <tr>\n",
       "      <th>25%</th>\n",
       "      <td>0.000000</td>\n",
       "      <td>0.000000</td>\n",
       "      <td>0.000000</td>\n",
       "      <td>0.000000</td>\n",
       "      <td>7.000000</td>\n",
       "      <td>184.137500</td>\n",
       "      <td>0.000000</td>\n",
       "      <td>0.014286</td>\n",
       "      <td>0.000000</td>\n",
       "      <td>0.000000</td>\n",
       "      <td>2.000000</td>\n",
       "      <td>2.000000</td>\n",
       "      <td>1.000000</td>\n",
       "      <td>2.000000</td>\n",
       "    </tr>\n",
       "    <tr>\n",
       "      <th>50%</th>\n",
       "      <td>1.000000</td>\n",
       "      <td>7.500000</td>\n",
       "      <td>0.000000</td>\n",
       "      <td>0.000000</td>\n",
       "      <td>18.000000</td>\n",
       "      <td>598.936905</td>\n",
       "      <td>0.003112</td>\n",
       "      <td>0.025156</td>\n",
       "      <td>0.000000</td>\n",
       "      <td>0.000000</td>\n",
       "      <td>2.000000</td>\n",
       "      <td>2.000000</td>\n",
       "      <td>3.000000</td>\n",
       "      <td>2.000000</td>\n",
       "    </tr>\n",
       "    <tr>\n",
       "      <th>75%</th>\n",
       "      <td>4.000000</td>\n",
       "      <td>93.256250</td>\n",
       "      <td>0.000000</td>\n",
       "      <td>0.000000</td>\n",
       "      <td>38.000000</td>\n",
       "      <td>1464.157214</td>\n",
       "      <td>0.016813</td>\n",
       "      <td>0.050000</td>\n",
       "      <td>0.000000</td>\n",
       "      <td>0.000000</td>\n",
       "      <td>3.000000</td>\n",
       "      <td>2.000000</td>\n",
       "      <td>4.000000</td>\n",
       "      <td>4.000000</td>\n",
       "    </tr>\n",
       "    <tr>\n",
       "      <th>max</th>\n",
       "      <td>27.000000</td>\n",
       "      <td>3398.750000</td>\n",
       "      <td>24.000000</td>\n",
       "      <td>2549.375000</td>\n",
       "      <td>705.000000</td>\n",
       "      <td>63973.522230</td>\n",
       "      <td>0.200000</td>\n",
       "      <td>0.200000</td>\n",
       "      <td>361.763742</td>\n",
       "      <td>1.000000</td>\n",
       "      <td>8.000000</td>\n",
       "      <td>13.000000</td>\n",
       "      <td>9.000000</td>\n",
       "      <td>20.000000</td>\n",
       "    </tr>\n",
       "  </tbody>\n",
       "</table>\n",
       "</div>"
      ],
      "text/plain": [
       "       Administrative  Administrative_Duration  Informational  \\\n",
       "count    12330.000000             12330.000000   12330.000000   \n",
       "mean         2.315166                80.818611       0.503569   \n",
       "std          3.321784               176.779107       1.270156   \n",
       "min          0.000000                 0.000000       0.000000   \n",
       "25%          0.000000                 0.000000       0.000000   \n",
       "50%          1.000000                 7.500000       0.000000   \n",
       "75%          4.000000                93.256250       0.000000   \n",
       "max         27.000000              3398.750000      24.000000   \n",
       "\n",
       "       Informational_Duration  ProductRelated  ProductRelated_Duration  \\\n",
       "count            12330.000000    12330.000000             12330.000000   \n",
       "mean                34.472398       31.731468              1194.746220   \n",
       "std                140.749294       44.475503              1913.669288   \n",
       "min                  0.000000        0.000000                 0.000000   \n",
       "25%                  0.000000        7.000000               184.137500   \n",
       "50%                  0.000000       18.000000               598.936905   \n",
       "75%                  0.000000       38.000000              1464.157214   \n",
       "max               2549.375000      705.000000             63973.522230   \n",
       "\n",
       "        BounceRates     ExitRates    PageValues    SpecialDay  \\\n",
       "count  12330.000000  12330.000000  12330.000000  12330.000000   \n",
       "mean       0.022191      0.043073      5.889258      0.061427   \n",
       "std        0.048488      0.048597     18.568437      0.198917   \n",
       "min        0.000000      0.000000      0.000000      0.000000   \n",
       "25%        0.000000      0.014286      0.000000      0.000000   \n",
       "50%        0.003112      0.025156      0.000000      0.000000   \n",
       "75%        0.016813      0.050000      0.000000      0.000000   \n",
       "max        0.200000      0.200000    361.763742      1.000000   \n",
       "\n",
       "       OperatingSystems       Browser        Region   TrafficType  \n",
       "count      12330.000000  12330.000000  12330.000000  12330.000000  \n",
       "mean           2.124006      2.357097      3.147364      4.069586  \n",
       "std            0.911325      1.717277      2.401591      4.025169  \n",
       "min            1.000000      1.000000      1.000000      1.000000  \n",
       "25%            2.000000      2.000000      1.000000      2.000000  \n",
       "50%            2.000000      2.000000      3.000000      2.000000  \n",
       "75%            3.000000      2.000000      4.000000      4.000000  \n",
       "max            8.000000     13.000000      9.000000     20.000000  "
      ]
     },
     "metadata": {},
     "execution_count": 346
    }
   ],
   "metadata": {
    "execution": {
     "iopub.execute_input": "2021-09-10T02:19:20.845540Z",
     "iopub.status.busy": "2021-09-10T02:19:20.840624Z",
     "iopub.status.idle": "2021-09-10T02:19:20.897279Z",
     "shell.execute_reply": "2021-09-10T02:19:20.897707Z",
     "shell.execute_reply.started": "2021-09-10T02:16:41.306917Z"
    },
    "papermill": {
     "duration": 0.086611,
     "end_time": "2021-09-10T02:19:20.897876",
     "exception": false,
     "start_time": "2021-09-10T02:19:20.811265",
     "status": "completed"
    },
    "tags": []
   }
  },
  {
   "cell_type": "code",
   "execution_count": 347,
   "source": [
    "df.head(4)"
   ],
   "outputs": [
    {
     "output_type": "execute_result",
     "data": {
      "text/html": [
       "<div>\n",
       "<style scoped>\n",
       "    .dataframe tbody tr th:only-of-type {\n",
       "        vertical-align: middle;\n",
       "    }\n",
       "\n",
       "    .dataframe tbody tr th {\n",
       "        vertical-align: top;\n",
       "    }\n",
       "\n",
       "    .dataframe thead th {\n",
       "        text-align: right;\n",
       "    }\n",
       "</style>\n",
       "<table border=\"1\" class=\"dataframe\">\n",
       "  <thead>\n",
       "    <tr style=\"text-align: right;\">\n",
       "      <th></th>\n",
       "      <th>Administrative</th>\n",
       "      <th>Administrative_Duration</th>\n",
       "      <th>Informational</th>\n",
       "      <th>Informational_Duration</th>\n",
       "      <th>ProductRelated</th>\n",
       "      <th>ProductRelated_Duration</th>\n",
       "      <th>BounceRates</th>\n",
       "      <th>ExitRates</th>\n",
       "      <th>PageValues</th>\n",
       "      <th>SpecialDay</th>\n",
       "      <th>Month</th>\n",
       "      <th>OperatingSystems</th>\n",
       "      <th>Browser</th>\n",
       "      <th>Region</th>\n",
       "      <th>TrafficType</th>\n",
       "      <th>VisitorType</th>\n",
       "      <th>Weekend</th>\n",
       "      <th>Revenue</th>\n",
       "    </tr>\n",
       "  </thead>\n",
       "  <tbody>\n",
       "    <tr>\n",
       "      <th>0</th>\n",
       "      <td>0</td>\n",
       "      <td>0.0</td>\n",
       "      <td>0</td>\n",
       "      <td>0.0</td>\n",
       "      <td>1</td>\n",
       "      <td>0.000000</td>\n",
       "      <td>0.20</td>\n",
       "      <td>0.20</td>\n",
       "      <td>0.0</td>\n",
       "      <td>0.0</td>\n",
       "      <td>Feb</td>\n",
       "      <td>1</td>\n",
       "      <td>1</td>\n",
       "      <td>1</td>\n",
       "      <td>1</td>\n",
       "      <td>Returning_Visitor</td>\n",
       "      <td>False</td>\n",
       "      <td>False</td>\n",
       "    </tr>\n",
       "    <tr>\n",
       "      <th>1</th>\n",
       "      <td>0</td>\n",
       "      <td>0.0</td>\n",
       "      <td>0</td>\n",
       "      <td>0.0</td>\n",
       "      <td>2</td>\n",
       "      <td>64.000000</td>\n",
       "      <td>0.00</td>\n",
       "      <td>0.10</td>\n",
       "      <td>0.0</td>\n",
       "      <td>0.0</td>\n",
       "      <td>Feb</td>\n",
       "      <td>2</td>\n",
       "      <td>2</td>\n",
       "      <td>1</td>\n",
       "      <td>2</td>\n",
       "      <td>Returning_Visitor</td>\n",
       "      <td>False</td>\n",
       "      <td>False</td>\n",
       "    </tr>\n",
       "    <tr>\n",
       "      <th>2</th>\n",
       "      <td>0</td>\n",
       "      <td>0.0</td>\n",
       "      <td>0</td>\n",
       "      <td>0.0</td>\n",
       "      <td>1</td>\n",
       "      <td>0.000000</td>\n",
       "      <td>0.20</td>\n",
       "      <td>0.20</td>\n",
       "      <td>0.0</td>\n",
       "      <td>0.0</td>\n",
       "      <td>Feb</td>\n",
       "      <td>4</td>\n",
       "      <td>1</td>\n",
       "      <td>9</td>\n",
       "      <td>3</td>\n",
       "      <td>Returning_Visitor</td>\n",
       "      <td>False</td>\n",
       "      <td>False</td>\n",
       "    </tr>\n",
       "    <tr>\n",
       "      <th>3</th>\n",
       "      <td>0</td>\n",
       "      <td>0.0</td>\n",
       "      <td>0</td>\n",
       "      <td>0.0</td>\n",
       "      <td>2</td>\n",
       "      <td>2.666667</td>\n",
       "      <td>0.05</td>\n",
       "      <td>0.14</td>\n",
       "      <td>0.0</td>\n",
       "      <td>0.0</td>\n",
       "      <td>Feb</td>\n",
       "      <td>3</td>\n",
       "      <td>2</td>\n",
       "      <td>2</td>\n",
       "      <td>4</td>\n",
       "      <td>Returning_Visitor</td>\n",
       "      <td>False</td>\n",
       "      <td>False</td>\n",
       "    </tr>\n",
       "  </tbody>\n",
       "</table>\n",
       "</div>"
      ],
      "text/plain": [
       "   Administrative  Administrative_Duration  Informational  \\\n",
       "0               0                      0.0              0   \n",
       "1               0                      0.0              0   \n",
       "2               0                      0.0              0   \n",
       "3               0                      0.0              0   \n",
       "\n",
       "   Informational_Duration  ProductRelated  ProductRelated_Duration  \\\n",
       "0                     0.0               1                 0.000000   \n",
       "1                     0.0               2                64.000000   \n",
       "2                     0.0               1                 0.000000   \n",
       "3                     0.0               2                 2.666667   \n",
       "\n",
       "   BounceRates  ExitRates  PageValues  SpecialDay Month  OperatingSystems  \\\n",
       "0         0.20       0.20         0.0         0.0   Feb                 1   \n",
       "1         0.00       0.10         0.0         0.0   Feb                 2   \n",
       "2         0.20       0.20         0.0         0.0   Feb                 4   \n",
       "3         0.05       0.14         0.0         0.0   Feb                 3   \n",
       "\n",
       "   Browser  Region  TrafficType        VisitorType  Weekend  Revenue  \n",
       "0        1       1            1  Returning_Visitor    False    False  \n",
       "1        2       1            2  Returning_Visitor    False    False  \n",
       "2        1       9            3  Returning_Visitor    False    False  \n",
       "3        2       2            4  Returning_Visitor    False    False  "
      ]
     },
     "metadata": {},
     "execution_count": 347
    }
   ],
   "metadata": {
    "execution": {
     "iopub.execute_input": "2021-09-10T02:19:20.972105Z",
     "iopub.status.busy": "2021-09-10T02:19:20.971200Z",
     "iopub.status.idle": "2021-09-10T02:19:20.974881Z",
     "shell.execute_reply": "2021-09-10T02:19:20.975260Z",
     "shell.execute_reply.started": "2021-09-10T02:16:41.361883Z"
    },
    "papermill": {
     "duration": 0.050148,
     "end_time": "2021-09-10T02:19:20.975459",
     "exception": false,
     "start_time": "2021-09-10T02:19:20.925311",
     "status": "completed"
    },
    "tags": []
   }
  },
  {
   "cell_type": "code",
   "execution_count": 348,
   "source": [
    "fig, axs = plt.subplots(figsize=(5,4))\r\n",
    "g = sns.countplot(x='Revenue', data=df, ax=axs)"
   ],
   "outputs": [
    {
     "output_type": "display_data",
     "data": {
      "image/png": "[encoded data removed]",
      "text/plain": [
       "<Figure size 360x288 with 1 Axes>"
      ]
     },
     "metadata": {
      "needs_background": "light"
     }
    }
   ],
   "metadata": {
    "execution": {
     "iopub.execute_input": "2021-09-10T02:19:21.103144Z",
     "iopub.status.busy": "2021-09-10T02:19:21.102554Z",
     "iopub.status.idle": "2021-09-10T02:19:21.227945Z",
     "shell.execute_reply": "2021-09-10T02:19:21.227470Z",
     "shell.execute_reply.started": "2021-09-10T02:16:41.383685Z"
    },
    "papermill": {
     "duration": 0.169874,
     "end_time": "2021-09-10T02:19:21.228076",
     "exception": false,
     "start_time": "2021-09-10T02:19:21.058202",
     "status": "completed"
    },
    "tags": []
   }
  },
  {
   "cell_type": "markdown",
   "source": [
    "#### The Data is inbalanced, with roughly 85% (10422) of Non-Revenue vs 15% (1902) of Revenue sessions"
   ],
   "metadata": {}
  },
  {
   "cell_type": "code",
   "execution_count": 349,
   "source": [
    "fig, axs = plt.subplots(figsize=(5,4))\r\n",
    "g = sns.countplot(x='Month', data=df, ax=axs, hue='Revenue')"
   ],
   "outputs": [
    {
     "output_type": "display_data",
     "data": {
      "image/png": "[encoded data removed]",
      "text/plain": [
       "<Figure size 360x288 with 1 Axes>"
      ]
     },
     "metadata": {
      "needs_background": "light"
     }
    }
   ],
   "metadata": {
    "execution": {
     "iopub.execute_input": "2021-09-10T02:19:21.449056Z",
     "iopub.status.busy": "2021-09-10T02:19:21.439903Z",
     "iopub.status.idle": "2021-09-10T02:19:21.672034Z",
     "shell.execute_reply": "2021-09-10T02:19:21.671473Z",
     "shell.execute_reply.started": "2021-09-10T02:16:41.511576Z"
    },
    "papermill": {
     "duration": 0.280736,
     "end_time": "2021-09-10T02:19:21.672161",
     "exception": false,
     "start_time": "2021-09-10T02:19:21.391425",
     "status": "completed"
    },
    "tags": []
   }
  },
  {
   "cell_type": "markdown",
   "source": [
    "#### The Months with most online sessions are March, May, November and December. This may be caused by the important holiday, and special days in these months like: \r\n",
    "- **Woman's Day (Mar)**\r\n",
    "- **Mother's day (May)**\r\n",
    "- **Brack Friday, and Thanks Giving (Nov)**\r\n",
    "- **Christmas , and Happy New Year (Dec)**\r\n",
    "\r\n",
    "#### Although there is a discrepancy between Revenue and Non-Revenue visitors, the distributions are similar. Showing that most of purchases was made in these months"
   ],
   "metadata": {}
  },
  {
   "cell_type": "code",
   "execution_count": 350,
   "source": [
    "fig, axs = plt.subplots(figsize=(5,4))\r\n",
    "g = sns.countplot(x='SpecialDay', data=df, ax=axs, hue='Revenue')"
   ],
   "outputs": [
    {
     "output_type": "display_data",
     "data": {
      "image/png": "[encoded data removed]",
      "text/plain": [
       "<Figure size 360x288 with 1 Axes>"
      ]
     },
     "metadata": {
      "needs_background": "light"
     }
    }
   ],
   "metadata": {
    "execution": {
     "iopub.execute_input": "2021-09-10T02:19:21.814306Z",
     "iopub.status.busy": "2021-09-10T02:19:21.809046Z",
     "iopub.status.idle": "2021-09-10T02:19:21.987134Z",
     "shell.execute_reply": "2021-09-10T02:19:21.987562Z",
     "shell.execute_reply.started": "2021-09-10T02:16:41.776288Z"
    },
    "papermill": {
     "duration": 0.212608,
     "end_time": "2021-09-10T02:19:21.987733",
     "exception": false,
     "start_time": "2021-09-10T02:19:21.775125",
     "status": "completed"
    },
    "tags": []
   }
  },
  {
   "cell_type": "markdown",
   "source": [
    "#### If we take a look at the \"SpecialDay\" column, we can see that most of the often revenued sessions were made 13 days after or 1 day after especial days, considering the dynamics of e-commerce such as the duration between the order date and delivery date."
   ],
   "metadata": {}
  },
  {
   "cell_type": "code",
   "execution_count": 351,
   "source": [
    "df[['SpecialDay','Month','Revenue']].groupby('Month').sum()"
   ],
   "outputs": [
    {
     "output_type": "execute_result",
     "data": {
      "text/html": [
       "<div>\n",
       "<style scoped>\n",
       "    .dataframe tbody tr th:only-of-type {\n",
       "        vertical-align: middle;\n",
       "    }\n",
       "\n",
       "    .dataframe tbody tr th {\n",
       "        vertical-align: top;\n",
       "    }\n",
       "\n",
       "    .dataframe thead th {\n",
       "        text-align: right;\n",
       "    }\n",
       "</style>\n",
       "<table border=\"1\" class=\"dataframe\">\n",
       "  <thead>\n",
       "    <tr style=\"text-align: right;\">\n",
       "      <th></th>\n",
       "      <th>SpecialDay</th>\n",
       "      <th>Revenue</th>\n",
       "    </tr>\n",
       "    <tr>\n",
       "      <th>Month</th>\n",
       "      <th></th>\n",
       "      <th></th>\n",
       "    </tr>\n",
       "  </thead>\n",
       "  <tbody>\n",
       "    <tr>\n",
       "      <th>Aug</th>\n",
       "      <td>0.0</td>\n",
       "      <td>76</td>\n",
       "    </tr>\n",
       "    <tr>\n",
       "      <th>Dec</th>\n",
       "      <td>0.0</td>\n",
       "      <td>216</td>\n",
       "    </tr>\n",
       "    <tr>\n",
       "      <th>Feb</th>\n",
       "      <td>43.0</td>\n",
       "      <td>3</td>\n",
       "    </tr>\n",
       "    <tr>\n",
       "      <th>Jul</th>\n",
       "      <td>0.0</td>\n",
       "      <td>66</td>\n",
       "    </tr>\n",
       "    <tr>\n",
       "      <th>June</th>\n",
       "      <td>0.0</td>\n",
       "      <td>29</td>\n",
       "    </tr>\n",
       "    <tr>\n",
       "      <th>Mar</th>\n",
       "      <td>0.0</td>\n",
       "      <td>192</td>\n",
       "    </tr>\n",
       "    <tr>\n",
       "      <th>May</th>\n",
       "      <td>714.4</td>\n",
       "      <td>365</td>\n",
       "    </tr>\n",
       "    <tr>\n",
       "      <th>Nov</th>\n",
       "      <td>0.0</td>\n",
       "      <td>760</td>\n",
       "    </tr>\n",
       "    <tr>\n",
       "      <th>Oct</th>\n",
       "      <td>0.0</td>\n",
       "      <td>115</td>\n",
       "    </tr>\n",
       "    <tr>\n",
       "      <th>Sep</th>\n",
       "      <td>0.0</td>\n",
       "      <td>86</td>\n",
       "    </tr>\n",
       "  </tbody>\n",
       "</table>\n",
       "</div>"
      ],
      "text/plain": [
       "       SpecialDay  Revenue\n",
       "Month                     \n",
       "Aug           0.0       76\n",
       "Dec           0.0      216\n",
       "Feb          43.0        3\n",
       "Jul           0.0       66\n",
       "June          0.0       29\n",
       "Mar           0.0      192\n",
       "May         714.4      365\n",
       "Nov           0.0      760\n",
       "Oct           0.0      115\n",
       "Sep           0.0       86"
      ]
     },
     "metadata": {},
     "execution_count": 351
    }
   ],
   "metadata": {
    "execution": {
     "iopub.execute_input": "2021-09-10T02:19:22.048348Z",
     "iopub.status.busy": "2021-09-10T02:19:22.047763Z",
     "iopub.status.idle": "2021-09-10T02:19:22.062413Z",
     "shell.execute_reply": "2021-09-10T02:19:22.062832Z",
     "shell.execute_reply.started": "2021-09-10T02:16:41.966617Z"
    },
    "papermill": {
     "duration": 0.046577,
     "end_time": "2021-09-10T02:19:22.063002",
     "exception": false,
     "start_time": "2021-09-10T02:19:22.016425",
     "status": "completed"
    },
    "tags": []
   }
  },
  {
   "cell_type": "markdown",
   "source": [
    "#### The number of sessions close to special days was greater in May, and near of 51% of these sessions where revenued"
   ],
   "metadata": {}
  },
  {
   "cell_type": "code",
   "execution_count": 352,
   "source": [
    "pd.crosstab(df['Weekend'],df['Revenue'], margins=True)"
   ],
   "outputs": [
    {
     "output_type": "execute_result",
     "data": {
      "text/html": [
       "<div>\n",
       "<style scoped>\n",
       "    .dataframe tbody tr th:only-of-type {\n",
       "        vertical-align: middle;\n",
       "    }\n",
       "\n",
       "    .dataframe tbody tr th {\n",
       "        vertical-align: top;\n",
       "    }\n",
       "\n",
       "    .dataframe thead th {\n",
       "        text-align: right;\n",
       "    }\n",
       "</style>\n",
       "<table border=\"1\" class=\"dataframe\">\n",
       "  <thead>\n",
       "    <tr style=\"text-align: right;\">\n",
       "      <th>Revenue</th>\n",
       "      <th>False</th>\n",
       "      <th>True</th>\n",
       "      <th>All</th>\n",
       "    </tr>\n",
       "    <tr>\n",
       "      <th>Weekend</th>\n",
       "      <th></th>\n",
       "      <th></th>\n",
       "      <th></th>\n",
       "    </tr>\n",
       "  </thead>\n",
       "  <tbody>\n",
       "    <tr>\n",
       "      <th>False</th>\n",
       "      <td>8053</td>\n",
       "      <td>1409</td>\n",
       "      <td>9462</td>\n",
       "    </tr>\n",
       "    <tr>\n",
       "      <th>True</th>\n",
       "      <td>2369</td>\n",
       "      <td>499</td>\n",
       "      <td>2868</td>\n",
       "    </tr>\n",
       "    <tr>\n",
       "      <th>All</th>\n",
       "      <td>10422</td>\n",
       "      <td>1908</td>\n",
       "      <td>12330</td>\n",
       "    </tr>\n",
       "  </tbody>\n",
       "</table>\n",
       "</div>"
      ],
      "text/plain": [
       "Revenue  False  True    All\n",
       "Weekend                    \n",
       "False     8053  1409   9462\n",
       "True      2369   499   2868\n",
       "All      10422  1908  12330"
      ]
     },
     "metadata": {},
     "execution_count": 352
    }
   ],
   "metadata": {
    "execution": {
     "iopub.execute_input": "2021-09-10T02:19:22.195284Z",
     "iopub.status.busy": "2021-09-10T02:19:22.194714Z",
     "iopub.status.idle": "2021-09-10T02:19:22.255105Z",
     "shell.execute_reply": "2021-09-10T02:19:22.254581Z",
     "shell.execute_reply.started": "2021-09-10T02:16:41.981166Z"
    },
    "papermill": {
     "duration": 0.104539,
     "end_time": "2021-09-10T02:19:22.255242",
     "exception": false,
     "start_time": "2021-09-10T02:19:22.150703",
     "status": "completed"
    },
    "tags": []
   }
  },
  {
   "cell_type": "markdown",
   "source": [
    "#### And about week days, weekend improves Revenues by about 2,5% (17.40 % more Revenues in weekends against 14.90 % on weekdays)"
   ],
   "metadata": {}
  },
  {
   "cell_type": "markdown",
   "source": [
    "## Taking a look at Google Analytics metrics"
   ],
   "metadata": {}
  },
  {
   "cell_type": "code",
   "execution_count": 353,
   "source": [
    "df[['BounceRates','Revenue']].groupby('Revenue').mean()"
   ],
   "outputs": [
    {
     "output_type": "execute_result",
     "data": {
      "text/html": [
       "<div>\n",
       "<style scoped>\n",
       "    .dataframe tbody tr th:only-of-type {\n",
       "        vertical-align: middle;\n",
       "    }\n",
       "\n",
       "    .dataframe tbody tr th {\n",
       "        vertical-align: top;\n",
       "    }\n",
       "\n",
       "    .dataframe thead th {\n",
       "        text-align: right;\n",
       "    }\n",
       "</style>\n",
       "<table border=\"1\" class=\"dataframe\">\n",
       "  <thead>\n",
       "    <tr style=\"text-align: right;\">\n",
       "      <th></th>\n",
       "      <th>BounceRates</th>\n",
       "    </tr>\n",
       "    <tr>\n",
       "      <th>Revenue</th>\n",
       "      <th></th>\n",
       "    </tr>\n",
       "  </thead>\n",
       "  <tbody>\n",
       "    <tr>\n",
       "      <th>False</th>\n",
       "      <td>0.025317</td>\n",
       "    </tr>\n",
       "    <tr>\n",
       "      <th>True</th>\n",
       "      <td>0.005117</td>\n",
       "    </tr>\n",
       "  </tbody>\n",
       "</table>\n",
       "</div>"
      ],
      "text/plain": [
       "         BounceRates\n",
       "Revenue             \n",
       "False       0.025317\n",
       "True        0.005117"
      ]
     },
     "metadata": {},
     "execution_count": 353
    }
   ],
   "metadata": {
    "execution": {
     "iopub.execute_input": "2021-09-10T02:19:22.384039Z",
     "iopub.status.busy": "2021-09-10T02:19:22.383074Z",
     "iopub.status.idle": "2021-09-10T02:19:22.391213Z",
     "shell.execute_reply": "2021-09-10T02:19:22.391653Z",
     "shell.execute_reply.started": "2021-09-10T02:16:42.027479Z"
    },
    "papermill": {
     "duration": 0.045031,
     "end_time": "2021-09-10T02:19:22.391826",
     "exception": false,
     "start_time": "2021-09-10T02:19:22.346795",
     "status": "completed"
    },
    "tags": []
   }
  },
  {
   "cell_type": "markdown",
   "source": [
    "#### The bounce rate measure the percentage of visitors who enter the site then leave. If this page is only your home page, it's not good, this means that your visitors don't take any action and leave your page.\r\n",
    "#### Bounce Rate is greater in non-revened sessions (25% to non-revenue against 5% to revenue). Sessions, when the amount of people visiting the site is greater than these leaving, is more likely to be revenue"
   ],
   "metadata": {}
  },
  {
   "cell_type": "code",
   "execution_count": 354,
   "source": [
    "df[['ExitRates','Revenue']].groupby('Revenue').mean()"
   ],
   "outputs": [
    {
     "output_type": "execute_result",
     "data": {
      "text/html": [
       "<div>\n",
       "<style scoped>\n",
       "    .dataframe tbody tr th:only-of-type {\n",
       "        vertical-align: middle;\n",
       "    }\n",
       "\n",
       "    .dataframe tbody tr th {\n",
       "        vertical-align: top;\n",
       "    }\n",
       "\n",
       "    .dataframe thead th {\n",
       "        text-align: right;\n",
       "    }\n",
       "</style>\n",
       "<table border=\"1\" class=\"dataframe\">\n",
       "  <thead>\n",
       "    <tr style=\"text-align: right;\">\n",
       "      <th></th>\n",
       "      <th>ExitRates</th>\n",
       "    </tr>\n",
       "    <tr>\n",
       "      <th>Revenue</th>\n",
       "      <th></th>\n",
       "    </tr>\n",
       "  </thead>\n",
       "  <tbody>\n",
       "    <tr>\n",
       "      <th>False</th>\n",
       "      <td>0.047378</td>\n",
       "    </tr>\n",
       "    <tr>\n",
       "      <th>True</th>\n",
       "      <td>0.019555</td>\n",
       "    </tr>\n",
       "  </tbody>\n",
       "</table>\n",
       "</div>"
      ],
      "text/plain": [
       "         ExitRates\n",
       "Revenue           \n",
       "False     0.047378\n",
       "True      0.019555"
      ]
     },
     "metadata": {},
     "execution_count": 354
    }
   ],
   "metadata": {
    "execution": {
     "iopub.execute_input": "2021-09-10T02:19:22.514772Z",
     "iopub.status.busy": "2021-09-10T02:19:22.513879Z",
     "iopub.status.idle": "2021-09-10T02:19:22.525171Z",
     "shell.execute_reply": "2021-09-10T02:19:22.525631Z",
     "shell.execute_reply.started": "2021-09-10T02:16:42.041340Z"
    },
    "papermill": {
     "duration": 0.044284,
     "end_time": "2021-09-10T02:19:22.525795",
     "exception": false,
     "start_time": "2021-09-10T02:19:22.481511",
     "status": "completed"
    },
    "tags": []
   }
  },
  {
   "cell_type": "markdown",
   "source": [
    "#### Exit Rate  refer to the percentage of visitors to a page on the website from which they exit the website to a different website.\r\n",
    "#### For revenued sessions, near of 20% of the sessions has started and ended at the same page, for non-revenued 50%. In other words, engaged people, who see more than only one page in the your site, has more chance to generate revenue\r\n"
   ],
   "metadata": {}
  },
  {
   "cell_type": "code",
   "execution_count": 355,
   "source": [
    "df[['PageValues','Revenue']].groupby('Revenue').mean()"
   ],
   "outputs": [
    {
     "output_type": "execute_result",
     "data": {
      "text/html": [
       "<div>\n",
       "<style scoped>\n",
       "    .dataframe tbody tr th:only-of-type {\n",
       "        vertical-align: middle;\n",
       "    }\n",
       "\n",
       "    .dataframe tbody tr th {\n",
       "        vertical-align: top;\n",
       "    }\n",
       "\n",
       "    .dataframe thead th {\n",
       "        text-align: right;\n",
       "    }\n",
       "</style>\n",
       "<table border=\"1\" class=\"dataframe\">\n",
       "  <thead>\n",
       "    <tr style=\"text-align: right;\">\n",
       "      <th></th>\n",
       "      <th>PageValues</th>\n",
       "    </tr>\n",
       "    <tr>\n",
       "      <th>Revenue</th>\n",
       "      <th></th>\n",
       "    </tr>\n",
       "  </thead>\n",
       "  <tbody>\n",
       "    <tr>\n",
       "      <th>False</th>\n",
       "      <td>1.975998</td>\n",
       "    </tr>\n",
       "    <tr>\n",
       "      <th>True</th>\n",
       "      <td>27.264518</td>\n",
       "    </tr>\n",
       "  </tbody>\n",
       "</table>\n",
       "</div>"
      ],
      "text/plain": [
       "         PageValues\n",
       "Revenue            \n",
       "False      1.975998\n",
       "True      27.264518"
      ]
     },
     "metadata": {},
     "execution_count": 355
    }
   ],
   "metadata": {
    "execution": {
     "iopub.execute_input": "2021-09-10T02:19:22.652873Z",
     "iopub.status.busy": "2021-09-10T02:19:22.652231Z",
     "iopub.status.idle": "2021-09-10T02:19:22.662768Z",
     "shell.execute_reply": "2021-09-10T02:19:22.662253Z",
     "shell.execute_reply.started": "2021-09-10T02:16:42.059993Z"
    },
    "papermill": {
     "duration": 0.046914,
     "end_time": "2021-09-10T02:19:22.662912",
     "exception": false,
     "start_time": "2021-09-10T02:19:22.615998",
     "status": "completed"
    },
    "tags": []
   }
  },
  {
   "cell_type": "markdown",
   "source": [
    "#### Page Value is the average value for a page that a user visited before landing on the goal page or completing an Ecommerce transaction. For revenued sessions, the average Page Value is 27.00 and for non-revenued is about 2.00"
   ],
   "metadata": {}
  },
  {
   "cell_type": "markdown",
   "source": [
    "<a id='Convert' a/>\r\n",
    "<h1> Prepare Data </h1>\r\n",
    "<hr></hr>\r\n",
    "\r\n",
    "<h4> In order to use Machine Learning Algorithms, we need to convert categorical-nominal to numerical data</h4>"
   ],
   "metadata": {
    "papermill": {
     "duration": 0.03035,
     "end_time": "2021-09-10T02:19:22.724025",
     "exception": false,
     "start_time": "2021-09-10T02:19:22.693675",
     "status": "completed"
    },
    "tags": []
   }
  },
  {
   "cell_type": "code",
   "execution_count": 356,
   "source": [
    "from sklearn.model_selection import train_test_split\r\n",
    "# Divide X and y\r\n",
    "y = df['Revenue']\r\n",
    "X = df.drop(['Revenue'], axis=1)\r\n",
    "\r\n",
    "# Split dataset\r\n",
    "X_train_full, X_valid_full, y_train, y_valid = train_test_split(X, y, train_size=0.8, test_size=0.2, random_state=0)"
   ],
   "outputs": [],
   "metadata": {}
  },
  {
   "cell_type": "code",
   "execution_count": 357,
   "source": [
    "y_train = y_train.map({True:1, False:0})\r\n",
    "y_valid = y_valid.map({True:1, False:0})"
   ],
   "outputs": [],
   "metadata": {}
  },
  {
   "cell_type": "markdown",
   "source": [
    "# A class to preprocess dataset\r\n",
    "### Convert categorical and boolean to numeric"
   ],
   "metadata": {}
  },
  {
   "cell_type": "code",
   "execution_count": 358,
   "source": [
    "import fuzzywuzzy\r\n",
    "from fuzzywuzzy import process\r\n",
    "\r\n",
    "class CustomPreProcessing():\r\n",
    "\r\n",
    "    def __init__(self, min_ratio = 80, verbose = False):\r\n",
    "        if(verbose):\r\n",
    "            print(\"__init__\")\r\n",
    "        self.__class__.__name__ = 'CustomPreProcessing'\r\n",
    "        self.min_ratio = min_ratio\r\n",
    "        self.data = pd.DataFrame({'No data' : []})\r\n",
    "        self.verbose = verbose\r\n",
    "\r\n",
    "    \r\n",
    "    def replace_matches_in_column(self, column, string_to_match, verbose=False):\r\n",
    "        # get a list of unique strings\r\n",
    "        strings = self.data[column].unique()\r\n",
    "        \r\n",
    "        # get the top 10 closest matches to our input string\r\n",
    "        matches = fuzzywuzzy.process.extract(string_to_match, strings, \r\n",
    "                                            limit=10, scorer=fuzzywuzzy.fuzz.token_sort_ratio)\r\n",
    "\r\n",
    "        # only get matches with a ratio > 90\r\n",
    "        close_matches = [matches[0] for matches in matches if matches[1] >= self.min_ratio]\r\n",
    "        if (verbose):\r\n",
    "            print(f'Searching for:{string_to_match}, close match: {close_matches}')\r\n",
    "        # get the rows of all the close matches in our dataframe\r\n",
    "        rows_with_matches = self.data[column].isin(close_matches)\r\n",
    "\r\n",
    "        # replace all rows with close matches with the input matches \r\n",
    "        self.data.loc[rows_with_matches, column] = string_to_match\r\n",
    "\r\n",
    "    def rem_inconsistent_date(self, X, values):\r\n",
    "        if(self.verbose):\r\n",
    "            print(\"rem_inconsistentdata\")\r\n",
    "\r\n",
    "        for val in values:\r\n",
    "            self.replace_matches_in_column('Month', val)\r\n",
    "    \r\n",
    "    def map_months(self, months):\r\n",
    "        if(self.verbose):    \r\n",
    "            print('map_months')\r\n",
    "        self.data['Month'] = self.data['Month'].map(dict((v,k+1) for k,v in enumerate(months)))\r\n",
    "    \r\n",
    "    def map_visitors(self, visitor_type):\r\n",
    "        if(self.verbose):\r\n",
    "            print('map_visitor_type')\r\n",
    "        self.data['VisitorType'] = self.data['VisitorType'].map(dict((v,k) for k,v in enumerate(visitor_type)))\r\n",
    "    \r\n",
    "    def map_weekend(self):\r\n",
    "        if(self.verbose):\r\n",
    "            print('map_weekeend')     \r\n",
    "        self.data['Weekend'] = self.data['Weekend'].map({True:1, False:0})\r\n",
    "       \r\n",
    "\r\n",
    "    def fit(self, X, y = None):\r\n",
    "        if(self.verbose):\r\n",
    "            print('fit')\r\n",
    "        return self\r\n",
    "    \r\n",
    "    def transform(self, X, y = None):\r\n",
    "        if(self.verbose):\r\n",
    "            print(\"transform\")\r\n",
    "\r\n",
    "        self.data = X.copy()\r\n",
    "\r\n",
    "        months = ['Jan','Feb','Mar','Apr','May','Jun','Jul','Aug','Oct','Sep','Nov','Dec']\r\n",
    "        visitor_type = ['Returning_Visitor', 'New_Visitor','Other']\r\n",
    "\r\n",
    "        try:\r\n",
    "            \r\n",
    "            # remove inconsistentdata\r\n",
    "            self.rem_inconsistent_date(self.data, months)\r\n",
    "\r\n",
    "            # mapping months from str to numeric\r\n",
    "            self.map_months(months)\r\n",
    "\r\n",
    "            # mapping visitortype from str to numeric\r\n",
    "            self.map_visitors(visitor_type)\r\n",
    "\r\n",
    "            # mapping Weekend from boolean to numeric\r\n",
    "            self.map_weekend()\r\n",
    "\r\n",
    "        except KeyError as ke:\r\n",
    "            print(ke)\r\n",
    "            pass\r\n",
    "        finally:\r\n",
    "            return self.data\r\n",
    "\r\n",
    "\r\n",
    "\r\n",
    "    def __repr__(self):\r\n",
    "        return 'CustomPreProcessing'\r\n",
    "\r\n",
    "    def getdata(self):\r\n",
    "        return self.data"
   ],
   "outputs": [],
   "metadata": {}
  },
  {
   "cell_type": "markdown",
   "source": [
    "# Make a baseline model"
   ],
   "metadata": {}
  },
  {
   "cell_type": "code",
   "execution_count": 335,
   "source": [
    "from imblearn.pipeline import Pipeline\r\n",
    "from xgboost import XGBClassifier\r\n",
    "from sklearn.model_selection import cross_validate\r\n",
    "from sklearn.metrics import make_scorer\r\n",
    "\r\n",
    "scoring = ('roc_auc','accuracy','precision','recall')\r\n",
    "\r\n",
    "baseline = Pipeline([\r\n",
    "                ('Preprocessor',CustomPreProcessing(min_ratio=80, verbose=False)),\r\n",
    "                ('model',XGBClassifier(eval_metric='logloss'))])\r\n",
    "scores = cross_validate(baseline, X_train_full, y_train, cv=5, scoring=scoring)"
   ],
   "outputs": [],
   "metadata": {}
  },
  {
   "cell_type": "code",
   "execution_count": 336,
   "source": [
    "for k, v in scores.items():\r\n",
    "    print(k, np.round(v.mean(),4)) "
   ],
   "outputs": [
    {
     "output_type": "stream",
     "name": "stdout",
     "text": [
      "fit_time 0.7064\n",
      "score_time 0.0791\n",
      "test_roc_auc 0.9262\n",
      "test_accuracy 0.9005\n",
      "test_precision 0.7075\n",
      "test_recall 0.5801\n"
     ]
    }
   ],
   "metadata": {}
  },
  {
   "cell_type": "markdown",
   "source": [
    "#### As we have categorical variables, we can verify the dependence between it. This can be made using the chi-square test"
   ],
   "metadata": {}
  },
  {
   "cell_type": "markdown",
   "source": [
    "<a id='Dependency' a/>\r\n",
    "<h2> Test dependency of Revenue and categorical variables </h2>"
   ],
   "metadata": {
    "papermill": {
     "duration": 0.03027,
     "end_time": "2021-09-10T02:19:22.864441",
     "exception": false,
     "start_time": "2021-09-10T02:19:22.834171",
     "status": "completed"
    },
    "tags": []
   }
  },
  {
   "cell_type": "code",
   "execution_count": 337,
   "source": [
    "cat_var = ['SpecialDay','Month','OperatingSystems','Browser','Region','TrafficType','VisitorType','Weekend']\r\n",
    "for var in cat_var:\r\n",
    "    cont = pd.crosstab(df['Revenue'], df[var])\r\n",
    "    print(\"Revenue and \"+var+\" are:\",end=\" \")\r\n",
    "    test_dependency(0.05, cont)"
   ],
   "outputs": [
    {
     "output_type": "stream",
     "name": "stdout",
     "text": [
      "Revenue and SpecialDay are: dependent (reject H0)\n",
      "Revenue and Month are: dependent (reject H0)\n",
      "Revenue and OperatingSystems are: dependent (reject H0)\n",
      "Revenue and Browser are: dependent (reject H0)\n",
      "Revenue and Region are: independent (fail to reject H0)\n",
      "Revenue and TrafficType are: dependent (reject H0)\n",
      "Revenue and VisitorType are: dependent (reject H0)\n",
      "Revenue and Weekend are: dependent (reject H0)\n"
     ]
    }
   ],
   "metadata": {
    "execution": {
     "iopub.execute_input": "2021-09-10T02:19:22.998464Z",
     "iopub.status.busy": "2021-09-10T02:19:22.997559Z",
     "iopub.status.idle": "2021-09-10T02:19:23.115152Z",
     "shell.execute_reply": "2021-09-10T02:19:23.115603Z",
     "shell.execute_reply.started": "2021-09-10T02:16:42.098645Z"
    },
    "papermill": {
     "duration": 0.151632,
     "end_time": "2021-09-10T02:19:23.115779",
     "exception": false,
     "start_time": "2021-09-10T02:19:22.964147",
     "status": "completed"
    },
    "tags": []
   }
  },
  {
   "cell_type": "markdown",
   "source": [
    "#### The chi-square test shows that Region and Revenue are independent. This variable may be unuseful to use in ML algorithms"
   ],
   "metadata": {
    "execution": {
     "iopub.execute_input": "2021-09-10T02:19:23.182145Z",
     "iopub.status.busy": "2021-09-10T02:19:23.181292Z",
     "iopub.status.idle": "2021-09-10T02:19:23.184290Z",
     "shell.execute_reply": "2021-09-10T02:19:23.183810Z",
     "shell.execute_reply.started": "2021-09-10T02:16:42.225070Z"
    },
    "papermill": {
     "duration": 0.037766,
     "end_time": "2021-09-10T02:19:23.184439",
     "exception": false,
     "start_time": "2021-09-10T02:19:23.146673",
     "status": "completed"
    },
    "tags": []
   }
  },
  {
   "cell_type": "markdown",
   "source": [
    "<a id='NewFeatures' a/>\r\n",
    "<h2> Building New Features </h2>"
   ],
   "metadata": {
    "papermill": {
     "duration": 0.032014,
     "end_time": "2021-09-10T02:19:23.247373",
     "exception": false,
     "start_time": "2021-09-10T02:19:23.215359",
     "status": "completed"
    },
    "tags": []
   }
  },
  {
   "cell_type": "code",
   "execution_count": 338,
   "source": [
    "df['TotalPages'] = df['Administrative'] + df['Informational'] + df['ProductRelated']\r\n",
    "\r\n",
    "df['TotalTime'] = df['Administrative_Duration'] + df['Informational_Duration'] + df['ProductRelated_Duration']\r\n",
    "\r\n",
    "df['Adm_time_per_page'] = (df['Administrative_Duration']/df['Administrative']).fillna(0)\r\n",
    "\r\n",
    "df['Info_time_per_page'] = (df['Informational_Duration']/df['Informational']).fillna(0)\r\n",
    "\r\n",
    "df['Pr_time_per_page'] = (df['ProductRelated_Duration']/df['ProductRelated']).fillna(0)"
   ],
   "outputs": [],
   "metadata": {
    "execution": {
     "iopub.execute_input": "2021-09-10T02:19:23.331621Z",
     "iopub.status.busy": "2021-09-10T02:19:23.330881Z",
     "iopub.status.idle": "2021-09-10T02:19:23.349869Z",
     "shell.execute_reply": "2021-09-10T02:19:23.350376Z",
     "shell.execute_reply.started": "2021-09-10T02:16:42.230807Z"
    },
    "papermill": {
     "duration": 0.068765,
     "end_time": "2021-09-10T02:19:23.350556",
     "exception": false,
     "start_time": "2021-09-10T02:19:23.281791",
     "status": "completed"
    },
    "tags": []
   }
  },
  {
   "cell_type": "markdown",
   "source": [
    "<a id='ThielU' a/>\r\n",
    "<h1> What variables are most important to explain Revenued sessions?</h1>\r\n",
    "<hr></hr>\r\n",
    "\r\n",
    "Theil's U or Uncertainty Coefficient is a measure of nominal association. Sometimes expressed as U(x|y). Is the measure of entropy in variable y that variable x explains. Thiel's U is measured in the range of [0,1], where 0 means that feature y provides no information about feature x, and 1 means that feature y provides full information abpout features x's value."
   ],
   "metadata": {}
  },
  {
   "cell_type": "code",
   "execution_count": 339,
   "source": [
    "theilu = pd.DataFrame(index=['Revenue'],columns=df.columns)\r\n",
    "columns = df.columns\r\n",
    "for j in range(0,len(columns)):\r\n",
    "    u = theil_u(df['Revenue'].tolist(),df[columns[j]].tolist())\r\n",
    "    theilu.loc[:,columns[j]] = u\r\n",
    "theilu.fillna(value=np.nan,inplace=True)\r\n",
    "plt.figure(figsize=(20,1))\r\n",
    "sns.heatmap(theilu,annot=True,fmt='.2f')\r\n",
    "plt.show()"
   ],
   "outputs": [
    {
     "output_type": "display_data",
     "data": {
      "image/png": "[encoded data removed]",
      "text/plain": [
       "<Figure size 1440x72 with 2 Axes>"
      ]
     },
     "metadata": {
      "needs_background": "light"
     }
    }
   ],
   "metadata": {
    "execution": {
     "iopub.execute_input": "2021-09-10T02:19:23.622523Z",
     "iopub.status.busy": "2021-09-10T02:19:23.621970Z",
     "iopub.status.idle": "2021-09-10T02:19:24.166124Z",
     "shell.execute_reply": "2021-09-10T02:19:24.165616Z",
     "shell.execute_reply.started": "2021-09-10T02:16:42.270687Z"
    },
    "papermill": {
     "duration": 0.577686,
     "end_time": "2021-09-10T02:19:24.166250",
     "exception": false,
     "start_time": "2021-09-10T02:19:23.588564",
     "status": "completed"
    },
    "tags": []
   }
  },
  {
   "cell_type": "markdown",
   "source": [
    "#### Seems like TotalTime, Adm_time_per_page, and Pr_time_per_page, was most significative to Revenue"
   ],
   "metadata": {
    "execution": {
     "iopub.execute_input": "2021-09-10T02:19:24.240381Z",
     "iopub.status.busy": "2021-09-10T02:19:24.239777Z",
     "iopub.status.idle": "2021-09-10T02:19:24.242773Z",
     "shell.execute_reply": "2021-09-10T02:19:24.243280Z",
     "shell.execute_reply.started": "2021-09-10T02:16:43.448877Z"
    },
    "papermill": {
     "duration": 0.044121,
     "end_time": "2021-09-10T02:19:24.243450",
     "exception": false,
     "start_time": "2021-09-10T02:19:24.199329",
     "status": "completed"
    },
    "tags": []
   }
  },
  {
   "cell_type": "code",
   "execution_count": 361,
   "source": [
    "from imblearn.over_sampling import SMOTE\r\n",
    "from sklearn.preprocessing import StandardScaler\r\n",
    "\r\n",
    "model = Pipeline([ \r\n",
    "                ('Preprocessor', CustomPreProcessing(min_ratio=80, verbose=False)),\r\n",
    "                ('Scaler', StandardScaler()),\r\n",
    "                ('SMOTE()', SMOTE()),\r\n",
    "                ('model', XGBClassifier(eval_metric='logloss'))])\r\n",
    "                \r\n",
    "scores = cross_validate(model, X_train_full, y_train, cv=5, scoring=scoring)\r\n",
    "\r\n",
    "for k, v in scores.items():\r\n",
    "    print(k, np.round(v.mean(),4)) "
   ],
   "outputs": [
    {
     "output_type": "stream",
     "name": "stdout",
     "text": [
      "fit_time 1.4896\n",
      "score_time 0.0917\n",
      "test_roc_auc 0.9259\n",
      "test_accuracy 0.8979\n",
      "test_precision 0.6718\n",
      "test_recall 0.6339\n"
     ]
    }
   ],
   "metadata": {
    "execution": {
     "iopub.execute_input": "2021-09-10T02:19:24.970216Z",
     "iopub.status.busy": "2021-09-10T02:19:24.969634Z",
     "iopub.status.idle": "2021-09-10T02:19:46.249740Z",
     "shell.execute_reply": "2021-09-10T02:19:46.250998Z",
     "shell.execute_reply.started": "2021-09-10T02:16:43.487183Z"
    },
    "papermill": {
     "duration": 21.316272,
     "end_time": "2021-09-10T02:19:46.251254",
     "exception": false,
     "start_time": "2021-09-10T02:19:24.934982",
     "status": "completed"
    },
    "tags": []
   }
  },
  {
   "cell_type": "markdown",
   "source": [
    "## References:\r\n",
    "\r\n",
    "https://en.wikipedia.org/wiki/Uncertainty_coefficient,\r\n",
    "\r\n",
    "https://www.statisticshowto.com/uncertainty-coefficient/\r\n",
    "\r\n",
    "https://www.kaggle.com/shakedzy/alone-in-the-woods-using-theil-s-u-for-survival"
   ],
   "metadata": {
    "papermill": {
     "duration": 0.03334,
     "end_time": "2021-09-10T02:19:49.349617",
     "exception": false,
     "start_time": "2021-09-10T02:19:49.316277",
     "status": "completed"
    },
    "tags": []
   }
  }
 ],
 "metadata": {
  "kernelspec": {
   "name": "python3",
   "display_name": "Python 3.8.0 64-bit ('portifolio': virtualenv)"
  },
  "language_info": {
   "codemirror_mode": {
    "name": "ipython",
    "version": 3
   },
   "file_extension": ".py",
   "mimetype": "text/x-python",
   "name": "python",
   "nbconvert_exporter": "python",
   "pygments_lexer": "ipython3",
   "version": "3.8.0"
  },
  "papermill": {
   "default_parameters": {},
   "duration": 38.81672,
   "end_time": "2021-09-10T02:19:51.064967",
   "environment_variables": {},
   "exception": null,
   "input_path": "__notebook__.ipynb",
   "output_path": "__notebook__.ipynb",
   "parameters": {},
   "start_time": "2021-09-10T02:19:12.248247",
   "version": "2.3.3"
  },
  "interpreter": {
   "hash": "728b8f97ad7b66a77e7c0c3bc7fafe5e1ae8325e3c6903c8fc266752a3321bc0"
  }
 },
 "nbformat": 4,
 "nbformat_minor": 5
}